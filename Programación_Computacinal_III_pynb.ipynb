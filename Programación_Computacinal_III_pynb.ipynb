{
  "nbformat": 4,
  "nbformat_minor": 0,
  "metadata": {
    "colab": {
      "name": "Programación Computacinal III.pynb",
      "provenance": [],
      "collapsed_sections": [],
      "mount_file_id": "1QaxuZM_-4YyagL78mHJxMzLzPMLlUVA7",
      "authorship_tag": "ABX9TyPpKerVr5pskwKjbMpkXKRU",
      "include_colab_link": true
    },
    "kernelspec": {
      "name": "python3",
      "display_name": "Python 3"
    },
    "language_info": {
      "name": "python"
    }
  },
  "cells": [
    {
      "cell_type": "markdown",
      "metadata": {
        "id": "view-in-github",
        "colab_type": "text"
      },
      "source": [
        "<a href=\"https://colab.research.google.com/github/USIS014320/Programacion-1/blob/master/Programaci%C3%B3n_Computacinal_III_pynb.ipynb\" target=\"_parent\"><img src=\"https://colab.research.google.com/assets/colab-badge.svg\" alt=\"Open In Colab\"/></a>"
      ]
    },
    {
      "cell_type": "code",
      "metadata": {
        "id": "k1fnau3VNHrn"
      },
      "source": [
        "# convertir Celcius a Farenheit.\n",
        " \n",
        "def convertirCF(c):\n",
        "  c = (c*9/5)+32\n",
        "  return c\n",
        " \n",
        "c = float(input(\"c: \"))\n",
        "print(\"C: \", str(c), \"Grados Celcius a Fahrenheit son:\", str( convertirCF(c) ), \"Grados Farenheit.\")"
      ],
      "execution_count": null,
      "outputs": []
    },
    {
      "cell_type": "code",
      "metadata": {
        "id": "uaDCdIwzIJMf"
      },
      "source": [
        "# Calcular la edad de una persona.\n",
        " \n",
        "def calcularC(c):\n",
        " c = (fa-fn)\n",
        " return c\n",
        " \n",
        "fa = int(input(\"Año Actual: \"))\n",
        "fn = int(input(\"Año de Nacimiento: \"))\n",
        " \n",
        "print(\"c: \",  \"La edad actual es:\",int( calcularC(c) ), \"años.\")"
      ],
      "execution_count": null,
      "outputs": []
    },
    {
      "cell_type": "code",
      "metadata": {
        "id": "NzLF9NXcmuDj"
      },
      "source": [
        "# Obtener la nota final de ciclo.\n",
        "\n",
        "def promedio(c):\n",
        " c1 = ((L1+L2)*0.30)+P1*0.40\n",
        " c2 = ((L1a+L2a)*0.30)+P2*0.40\n",
        " c3 = ((L1b+L2b)*0.30)+P3*0.40\n",
        "\n",
        " c = (c1+c2+c3)/3\n",
        "\n",
        " return c\n",
        "\n",
        "L1 = float(input(\"Nota del laboratorio 1 computo 1: \"))\n",
        "L2 = float(input(\"Nota del laboratorio 2 computo 1: \"))\n",
        "P1 = float(input(\"Nota del parcial 1 computo 1: \"))\n",
        "\n",
        "L1a = float(input(\"Nota del laboratorio 1 computo 2: \"))\n",
        "L2a = float(input(\"Nota del laboratorio 2 computo 2: \"))\n",
        "P2 = float(input(\"Nota del parcial 2 computo 2: \"))\n",
        "\n",
        "L1b = float(input(\"Nota del laboratorio 1 computo 3: \"))\n",
        "L2b = float(input(\"Nota del laboratorio 2 computo 3: \"))\n",
        "P3 = float(input(\"Nota del parcial 3 computo 3: \"))\n",
        "\n",
        "print(\"c: \",  \"La nota promedio es:\",float( promedio(c) ))"
      ],
      "execution_count": null,
      "outputs": []
    },
    {
      "cell_type": "code",
      "metadata": {
        "id": "CUvGABQvat_l"
      },
      "source": [
        "# Convertir Celcius a Farenheit utilizando lambda.\n",
        " \n",
        "convertirCF = lambda c: (c*9/5)+32\n",
        "\n",
        "c = float(input(\"Celcius: \"))\n",
        "print(\"Respuesta: \", str(c), \"Grados Celcius en Fahrenheit son:\", str( convertirCF(c) ), \"Grados Farenheit.\")"
      ],
      "execution_count": null,
      "outputs": []
    },
    {
      "cell_type": "code",
      "metadata": {
        "id": "bvGMKK4TfTJZ"
      },
      "source": [
        "# Calcular la edad de una persona utilizando la funcion lambda\n",
        " \n",
        "calcular = lambda c:  (fa-fn)\n",
        "\n",
        "fa = int(input(\"Año Actual: \"))\n",
        "fn = int(input(\"Año de Nacimiento: \"))\n",
        " \n",
        "print(\"c: \",  \"La edad actual es:\",int( calcular(c) ), \"años.\")"
      ],
      "execution_count": null,
      "outputs": []
    },
    {
      "cell_type": "code",
      "metadata": {
        "id": "Ae-DvUYPg61y"
      },
      "source": [
        "# Obtener la nota final de ciclo con lambda.\n",
        "\n",
        "promedio = lambda c: (((L1+L2+L1a+L2a+L1b+L2b) * 0.3) + ((P1+P2+P3) * 0.4)) / 3\n",
        "\n",
        "L1 = float(input(\"Nota del laboratorio 1 computo 1: \"))\n",
        "L2 = float(input(\"Nota del laboratorio 2 computo 1: \"))\n",
        "P1 = float(input(\"Nota del parcial 1 computo 1: \"))\n",
        "print(\"\")\n",
        "L1a = float(input(\"Nota del laboratorio 1 computo 2: \"))\n",
        "L2a = float(input(\"Nota del laboratorio 2 computo 2: \"))\n",
        "P2 = float(input(\"Nota del parcial 2 computo 2: \"))\n",
        "print(\"\")\n",
        "L1b = float(input(\"Nota del laboratorio 1 computo 3: \"))\n",
        "L2b = float(input(\"Nota del laboratorio 2 computo 3: \"))\n",
        "P3 = float(input(\"Nota del parcial 3 computo 3: \"))\n",
        "print(\"\")\n",
        "print(\"c: \",  \"La nota promedio es:\",float( promedio(c) ))"
      ],
      "execution_count": null,
      "outputs": []
    },
    {
      "cell_type": "code",
      "metadata": {
        "id": "P210zb3-sd7t",
        "colab": {
          "base_uri": "https://localhost:8080/"
        },
        "outputId": "3c58b1ff-c2e7-4841-de74-499e0046a2c9"
      },
      "source": [
        "class Ejemplo:\n",
        "  def publico(self):\n",
        "    print (\"Publico\")\n",
        "  def __privado(self):\n",
        "    print (\"Privado\")\n",
        "ej = Ejemplo()\n",
        "ej.publico()"
      ],
      "execution_count": null,
      "outputs": [
        {
          "output_type": "stream",
          "name": "stdout",
          "text": [
            "Publico\n"
          ]
        }
      ]
    },
    {
      "cell_type": "code",
      "metadata": {
        "id": "f6Sobs5sa3WX"
      },
      "source": [
        "import pandas as pd\n",
        "lenguajes = pd.Series([ \n",
        "  \"C\",\n",
        "  \"VB\",\n",
        "  \"PHP\",\n",
        "  \"HTML\",\n",
        "  \"JS\",\n",
        "  \"CSS\",\n",
        "  \"JAVA\",\n",
        "  \"XML\",\n",
        "  \"Python\"],\n",
        "  index=[2,1,4,5,6,9,3,8,10])\n",
        "print(lenguajes)\n",
        "\n",
        "DiccionarioLenguajes = {\n",
        "    2:\"C\",\n",
        "    1:\"VB\",\n",
        "    4:\"PHP\",\n",
        "    5:\"HTML\",\n",
        "    6:\"JS\",\n",
        "    9:\"CSS\",\n",
        "    3:\"JAVA\",\n",
        "    8:\"XML\",\n",
        "    10:\"Python\"\n",
        "}\n",
        "\n",
        "    pdLenguajes = pd.Series(DiccionarioLenguajes)\n",
        "    print(pdLenguajes)\n",
        "\n",
        "\n",
        "for i in range(30,2000):\n",
        "  pdLenguajes[i] = \"Lenguaje Favorito \"+ str(i)\n",
        "print(pdLenguajes)"
      ],
      "execution_count": null,
      "outputs": []
    },
    {
      "cell_type": "code",
      "metadata": {
        "id": "GjMvKububZpG"
      },
      "source": [
        "import pandas as pd\n",
        "import matplotlib.pyplot as plt\n",
        "\n",
        "archivo = pd.read_csv(\"/content/Notas.csv\", sep=\";\", encoding=\"utf-8\")\n",
        "#print(archivo, archivo[\"nota\"])\n",
        "\n",
        "proceso = pd.crosstab(index=archivo[\"nota\"],columns=\"frecuencia\")\n",
        "#print(proceso)\n",
        "\n",
        "sobresalientes = proceso.loc[proceso.index>9][\"frecuencia\"].sum()\n",
        "print(sobresalientes)\n",
        "\n",
        "plt.pie(proceso, labels=proceso.index)\n",
        "plt.xlabel(\"Estudiantes sobresalientes\")\n",
        "plt.show()"
      ],
      "execution_count": null,
      "outputs": []
    },
    {
      "cell_type": "code",
      "metadata": {
        "id": "yjMI9SvLOrgd"
      },
      "source": [
        "\n",
        "import pandas as pd\n",
        "leguajes = pd.Series([\n",
        "                      \"C#\",\n",
        "                      \"VB\",\n",
        "                      \"PHP\",\n",
        "                      \"HTML\",\n",
        "                      \"JS\",\n",
        "                      \"CSS\",\n",
        "                      \"JAVA\",\n",
        "                      \"XML\",\n",
        "                      \"Python\"],\n",
        "                     index=[2,1,4,5,6,9,3,8,10])\n",
        "print(leguajes, leguajes[2])\n",
        "\n",
        "diccionarioLenguajes = {\n",
        "    2:\"C#\",\n",
        "    1:\"VB\",\n",
        "    4:\"PHP\",\n",
        "    5:\"HTML\",\n",
        "    6:\"JS\",\n",
        "    9:\"CSS\",\n",
        "    3:\"JAVA\",\n",
        "    8:\"XML\",\n",
        "    10:\"Python\"\n",
        "}\n",
        "pdLenguajes = pd.Series(diccionarioLenguajes)\n",
        "print(pdLenguajes)\n",
        "\n",
        "for i in range(30,2000):\n",
        "  pdLenguajes[i] = \"Lenguaje Favorito \"+ str(i)\n",
        "print(pdLenguajes)"
      ],
      "execution_count": null,
      "outputs": []
    },
    {
      "cell_type": "code",
      "metadata": {
        "id": "9Lnwwi0VOrYJ",
        "colab": {
          "base_uri": "https://localhost:8080/",
          "height": 300
        },
        "outputId": "c457d684-91e5-48e6-bce7-1f1b9345c803"
      },
      "source": [
        "import pandas as pd\n",
        "import matplotlib.pyplot as plt\n",
        "\n",
        "archivo = pd.read_csv(\"/content/notas.csv\", sep=\";\", encoding=\"utf-8\")\n",
        "#print(archivo, archivo[\"notas\"])\n",
        "\n",
        "proceso = pd.crosstab(index=archivo[\"notas\"],columns=\"frecuencia\")\n",
        "#print(proceso)\n",
        "\n",
        "sobresalientes = proceso.loc[proceso.index>=6][\"frecuencia\"]\n",
        "#print(sobresalientes)\n",
        "\n",
        "#plt.pie(sobresalientes, labels=sobresalientes.index)\n",
        "#plt.xlabel(\"Estudiantes que pasaron la materia\")\n",
        "#plt.show()\n",
        "\n",
        "grupoNotas = archivo.groupby ([\"notas\"]).agg({\"sum\"})\n",
        "#print(grupoNotas)\n",
        "grupoNotas.to_csv(\"/content/grupoNotas.csv\", sep=\";\")\n",
        "\n",
        "\n",
        "plt.pie(proceso, labels=proceso.index)\n",
        "plt.xlabel(\"Estudiantes sobresalientes\")\n",
        "plt.show()"
      ],
      "execution_count": null,
      "outputs": [
        {
          "output_type": "stream",
          "name": "stderr",
          "text": [
            "/usr/local/lib/python3.7/dist-packages/ipykernel_launcher.py:22: MatplotlibDeprecationWarning: Non-1D inputs to pie() are currently squeeze()d, but this behavior is deprecated since 3.1 and will be removed in 3.3; pass a 1D array instead.\n"
          ]
        },
        {
          "output_type": "display_data",
          "data": {
            "image/png": "[encoded data removed]",
            "text/plain": [
              "<Figure size 432x288 with 1 Axes>"
            ]
          },
          "metadata": {}
        }
      ]
    },
    {
      "cell_type": "code",
      "metadata": {
        "id": "EDsyhmXxO3c2"
      },
      "source": [
        "import pandas as pd\n",
        "import matplotlib.pyplot as plt\n",
        "\n",
        "usuarios = pd.read_csv(\"/content/usuarios.csv\", sep=\";\")\n",
        "#print(usuarios[\"Pais\"])\n",
        "\n",
        "peliculas = pd.read_csv(\"/content/peliculas.csv\", sep=\";\")\n",
        "#print(peliculas[\"Pelicula\"])\n",
        "\n",
        "usuario_pelicula = pd.read_csv(\"/content/usuario_pelicula.csv\", sep=\";\")\n",
        "#print(usuario_pelicula)\n",
        "\n",
        "usuarioPelicula = pd.merge ( pd.merge(usuarios,usuario_pelicula),peliculas, on=\"idPeliculas\")\n",
        "print(usuarioPelicula)\n",
        "\n",
        "union = pd.merge(peliculas, usuario_pelicula)\n",
        "#print(union)"
      ],
      "execution_count": null,
      "outputs": []
    },
    {
      "cell_type": "markdown",
      "metadata": {
        "id": "rdsBWD7qO7Gv"
      },
      "source": [
        "USO DE TENSORFLOW; HOLA MUNDO EN TENSORFLOW"
      ]
    },
    {
      "cell_type": "code",
      "metadata": {
        "id": "3k2vAw3-O8P9"
      },
      "source": [
        "import tensorflow as tf\n",
        "resp = tf.add(15,5).numpy()\n",
        "print(resp)"
      ],
      "execution_count": null,
      "outputs": []
    },
    {
      "cell_type": "code",
      "metadata": {
        "id": "pp1ANGv8PDLV"
      },
      "source": [
        "import tensorflow as tf\n",
        "import pandas as pd\n",
        "import matplotlib.pyplot as plt\n",
        "import seaborn as sns"
      ],
      "execution_count": null,
      "outputs": []
    },
    {
      "cell_type": "code",
      "metadata": {
        "id": "RjpZVbv8PD8v"
      },
      "source": [
        "#obtencion de los datos de entrenamiento\n",
        "temperaturas = pd.read_csv(\"/content/dataset.csv\", sep=\";\")\n",
        "\n",
        "sns.scatterplot(temperaturas[\"celsius\"],temperaturas[\"fahrenheit\"])\n",
        "plt.show()"
      ],
      "execution_count": null,
      "outputs": []
    },
    {
      "cell_type": "code",
      "metadata": {
        "id": "zkvRH__iPOeF"
      },
      "source": [
        "#datos dfe entrad y salida\n",
        "celsius = temperaturas[\"celsius\"]\n",
        "fahrenheit = temperaturas[\"fahrenheit\"]"
      ],
      "execution_count": null,
      "outputs": []
    },
    {
      "cell_type": "code",
      "metadata": {
        "id": "MxeJatOZPQi0"
      },
      "source": [
        "#modelo de entrenamiento\n",
        "modelo = tf.keras.Sequential()\n",
        "modelo.add(tf.keras.layers.Dense(units=1, input_shape=[1]))"
      ],
      "execution_count": null,
      "outputs": []
    },
    {
      "cell_type": "code",
      "metadata": {
        "id": "jRDXL-K-PSmF"
      },
      "source": [
        "#compilar el modelo\n",
        "modelo.compile(optimizer=tf.keras.optimizers.Adam(1),loss='mean_squared_error')"
      ],
      "execution_count": null,
      "outputs": []
    },
    {
      "cell_type": "code",
      "metadata": {
        "id": "R32sv562PUoV"
      },
      "source": [
        "#entrenamieno del modelo\n",
        "epocas = modelo.fit(celsius, fahrenheit, epochs=110)"
      ],
      "execution_count": null,
      "outputs": []
    },
    {
      "cell_type": "code",
      "metadata": {
        "id": "QU2FMp3IPZZt"
      },
      "source": [
        "#evaluando el nivel de error del aprendizaje\n",
        "plt.plot(epocas.history[\"loss\"])\n",
        "plt.title(\"Progreso de aprendizaje\")\n",
        "plt.xlabel(\"Epocas\")\n",
        "plt.ylabel(\"Error de aprendizaje\")\n",
        "plt.legend(\"Aprendizaje\")\n",
        "plt.show()"
      ],
      "execution_count": null,
      "outputs": []
    },
    {
      "cell_type": "markdown",
      "metadata": {
        "id": "VJzo2EdQgXUf"
      },
      "source": [
        "USO DE TENSORFLOW PARA CONVERTIR GRADOS FAHRENHEIT A KELVIN"
      ]
    },
    {
      "cell_type": "code",
      "metadata": {
        "id": "1ix4iu6PfprI"
      },
      "source": [
        "#importando las librerias\n",
        "import tensorflow as tf\n",
        "import pandas as pd\n",
        "import matplotlib.pyplot as plt\n",
        "import seaborn as sns"
      ],
      "execution_count": 1,
      "outputs": []
    },
    {
      "cell_type": "code",
      "metadata": {
        "id": "GzTquVS2gpSX"
      },
      "source": [
        "#leer los datos de entrenamiento\n",
        "temperaturas = pd.read_csv(\"/content/datos.csv\", sep=\";\")\n",
        "#print(temperaturas)"
      ],
      "execution_count": 17,
      "outputs": []
    },
    {
      "cell_type": "code",
      "metadata": {
        "id": "_q5Phd16hBOI"
      },
      "source": [
        "#separar los datos de entrada y salida\n",
        "f = temperaturas[\"fahrenheit\"]\n",
        "k = temperaturas[\"kelvin\"]"
      ],
      "execution_count": 18,
      "outputs": []
    },
    {
      "cell_type": "code",
      "metadata": {
        "id": "HXPhYchdhSeW"
      },
      "source": [
        "#creando el modelo de entrenamiento\n",
        "modelo = tf.keras.Sequential()\n",
        "modelo.add(tf.keras.layers.Dense(units=1, input_shape=[1]))"
      ],
      "execution_count": 19,
      "outputs": []
    },
    {
      "cell_type": "code",
      "metadata": {
        "id": "F3DIAJTfhXoH"
      },
      "source": [
        "#compilar el modelo\n",
        "modelo.compile(optimizer=tf.keras.optimizers.Adam(1),loss='mean_squared_error')"
      ],
      "execution_count": 20,
      "outputs": []
    },
    {
      "cell_type": "code",
      "metadata": {
        "id": "yQxR4STohaoH"
      },
      "source": [
        "#entrenar el modelo de inteligenica artidifial\n",
        "historial = modelo.fit(f,k,epochs=400, verbose=0)"
      ],
      "execution_count": 41,
      "outputs": []
    },
    {
      "cell_type": "code",
      "metadata": {
        "colab": {
          "base_uri": "https://localhost:8080/"
        },
        "id": "QI5c2_8RiEav",
        "outputId": "9bbb527f-8770-433e-de60-224540f789cb"
      },
      "source": [
        "kelvin = modelo.predict([.])\n",
        "print(kelvin)"
      ],
      "execution_count": 44,
      "outputs": [
        {
          "output_type": "stream",
          "name": "stdout",
          "text": [
            "[[3.490066e+09]]\n"
          ]
        }
      ]
    }
  ]
}